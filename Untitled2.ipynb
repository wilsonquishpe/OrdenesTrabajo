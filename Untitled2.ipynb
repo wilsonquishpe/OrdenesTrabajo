{
  "nbformat": 4,
  "nbformat_minor": 0,
  "metadata": {
    "colab": {
      "provenance": [],
      "collapsed_sections": [],
      "authorship_tag": "ABX9TyMVviC4/MuIo1hDIjJQYRn9",
      "include_colab_link": true
    },
    "kernelspec": {
      "name": "python3",
      "display_name": "Python 3"
    },
    "language_info": {
      "name": "python"
    }
  },
  "cells": [
    {
      "cell_type": "markdown",
      "metadata": {
        "id": "view-in-github",
        "colab_type": "text"
      },
      "source": [
        "<a href=\"https://colab.research.google.com/github/wilsonquishpe/OrdenesTrabajo/blob/main/Untitled2.ipynb\" target=\"_parent\"><img src=\"https://colab.research.google.com/assets/colab-badge.svg\" alt=\"Open In Colab\"/></a>"
      ]
    },
    {
      "cell_type": "code",
      "execution_count": 3,
      "metadata": {
        "id": "39GArf5JGD8Z"
      },
      "outputs": [],
      "source": [
        "def bubbleSort (nums):\n",
        "  # Establecemos la variable intercambio en True para entrar en el bucle al menos una vez\n",
        "  intercambio = True \n",
        "  while intercambio:\n",
        "    intercambio = False\n",
        "    for i in range (len(nums) -  1):\n",
        "      if nums [ i]> nums [ i+1]:\n",
        "        nums [ i], nums [ i+1]=nums [ i+1], nums [ i]\n",
        "      #Cambiamos a true la variable ya que ha habido un intercambio.\n",
        "      intercambio = True\n",
        "      #Comprobamos el funcionamiento\n",
        "      listaNumerosAleatorios = [ 5,2,1,8,4]\n",
        "      bubbleSort(listaNumerosAleatorios)\n",
        "      print(listaNumerosAleatorios)"
      ]
    },
    {
      "cell_type": "code",
      "source": [
        "def SelectionSort(nums): \n",
        "  for i in range (len(nums)):\n",
        "    lowest_value_index=i\n",
        "    for j in range (i+1, len (nums)):\n",
        "      if nums[ j] <nums[lowest_value_index]:\n",
        "        lowest_value_index=j\n",
        "        nums [ i],nums [lowest_value_index ] =nums [lowest_value_index ],nums [ i]\n",
        "       "
      ],
      "metadata": {
        "id": "8sIV0xpHN31r"
      },
      "execution_count": 4,
      "outputs": []
    },
    {
      "cell_type": "code",
      "source": [],
      "metadata": {
        "id": "wNw7YT5ZQUew"
      },
      "execution_count": null,
      "outputs": []
    }
  ]
}